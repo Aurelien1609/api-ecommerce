{
 "cells": [
  {
   "cell_type": "code",
   "execution_count": 75,
   "id": "0aa53c87-4f0f-4687-ab0f-03588a9bf71a",
   "metadata": {},
   "outputs": [
    {
     "name": "stdout",
     "output_type": "stream",
     "text": [
      "The autoreload extension is already loaded. To reload it, use:\n",
      "  %reload_ext autoreload\n"
     ]
    }
   ],
   "source": [
    "%load_ext autoreload\n",
    "%autoreload 2"
   ]
  },
  {
   "cell_type": "code",
   "execution_count": 78,
   "id": "0155a68b-98a6-4494-a7b9-2becafecc61a",
   "metadata": {},
   "outputs": [],
   "source": [
    "import requests\n",
    "from api_ecommerce.models import  User, Product, CommandLign, Command\n",
    "from sqlalchemy.orm import sessionmaker"
   ]
  },
  {
   "cell_type": "code",
   "execution_count": 19,
   "id": "50095c12-8926-49af-8f1c-1f3afbb2324c",
   "metadata": {},
   "outputs": [],
   "source": [
    "Session = sessionmaker(bind=engine)\n",
    "session = Session()"
   ]
  },
  {
   "cell_type": "code",
   "execution_count": 20,
   "id": "21c64fa5-6094-4b7e-b714-3db72f43bad5",
   "metadata": {},
   "outputs": [
    {
     "name": "stdout",
     "output_type": "stream",
     "text": [
      "[<api_ecommerce.models.Command object at 0x111aca510>]\n"
     ]
    }
   ],
   "source": [
    "command = session.query(Command).all()\n",
    "print(command)"
   ]
  },
  {
   "cell_type": "code",
   "execution_count": 41,
   "id": "be3151fc-c3c2-401b-adb7-8c61c70ef3a8",
   "metadata": {
    "scrolled": true
   },
   "outputs": [
    {
     "name": "stdout",
     "output_type": "stream",
     "text": [
      "[(<api_ecommerce.models.CommandLign object at 0x111af4da0>, 'Ordinateur Portable X200'), (<api_ecommerce.models.CommandLign object at 0x111aca720>, 'Clavier Mécanique Pro')]\n"
     ]
    }
   ],
   "source": [
    "command_lign = session.query(CommandLign, Product.name).join(Product, CommandLign.product_id == Product.id).filter(CommandLign.command_id == 1).all()\n",
    "print(command_lign)"
   ]
  },
  {
   "cell_type": "code",
   "execution_count": 25,
   "id": "05383bc2-88cb-4b0e-b3d8-ecd33242af10",
   "metadata": {},
   "outputs": [
    {
     "data": {
      "text/plain": [
       "<api_ecommerce.models.CommandLign at 0x111af4da0>"
      ]
     },
     "execution_count": 25,
     "metadata": {},
     "output_type": "execute_result"
    }
   ],
   "source": [
    "command_lign[0]"
   ]
  },
  {
   "cell_type": "code",
   "execution_count": null,
   "id": "0bc71152-330b-4261-9a85-76b9c189e592",
   "metadata": {},
   "outputs": [],
   "source": []
  },
  {
   "cell_type": "code",
   "execution_count": 176,
   "id": "fdf57511-a89c-4618-a05d-4d4589e87b76",
   "metadata": {},
   "outputs": [
    {
     "name": "stdout",
     "output_type": "stream",
     "text": [
      "<api_ecommerce.models.Product object at 0x1167a9400>\n"
     ]
    }
   ],
   "source": [
    "product = session.query(Product).first()\n",
    "print(product)"
   ]
  },
  {
   "cell_type": "code",
   "execution_count": 213,
   "id": "b5bacfd6-0c87-4522-9e29-a16b51240644",
   "metadata": {},
   "outputs": [
    {
     "name": "stdout",
     "output_type": "stream",
     "text": [
      "1 admin pbkdf2:sha256:1000000$ETM5goGGZLmdHcQR$0b1ce5f6a0bff6814bf9eac72cf3ae337c9a8bc411f2f6bab5cb533bc57414a2 admin@hotmail.com admin\n",
      "2 john pbkdf2:sha256:1000000$f4J9kwWzYaXQQv3k$8b7a7680f8e53a10d132cb98e62a5d659c544de39be0ed81d09111934cd4c450 john@hotmail.com user\n"
     ]
    }
   ],
   "source": [
    "users = session.query(User).all()\n",
    "for user in users:\n",
    "    print(user.id, user.name, user.password, user.email, user.role)"
   ]
  },
  {
   "cell_type": "markdown",
   "id": "326622b2-9c22-456f-844d-00735810ebd3",
   "metadata": {},
   "source": [
    "## Requêtes API"
   ]
  },
  {
   "cell_type": "code",
   "execution_count": 79,
   "id": "63d8da5b-d19c-4ab4-803e-da3955045655",
   "metadata": {},
   "outputs": [],
   "source": [
    "URL_API = 'http://127.0.0.1:5000'"
   ]
  },
  {
   "cell_type": "code",
   "execution_count": 82,
   "id": "fdfcbe06-bc70-449d-97dd-0e33e4857b6e",
   "metadata": {
    "scrolled": true
   },
   "outputs": [
    {
     "name": "stdout",
     "output_type": "stream",
     "text": [
      "201\n",
      "{\n",
      "  \"message\": \"Subscription done !\"\n",
      "}\n",
      "\n"
     ]
    },
    {
     "ename": "KeyError",
     "evalue": "'token'",
     "output_type": "error",
     "traceback": [
      "\u001b[31m---------------------------------------------------------------------------\u001b[39m",
      "\u001b[31mKeyError\u001b[39m                                  Traceback (most recent call last)",
      "\u001b[36mCell\u001b[39m\u001b[36m \u001b[39m\u001b[32mIn[82]\u001b[39m\u001b[32m, line 14\u001b[39m\n\u001b[32m     12\u001b[39m \u001b[38;5;28mprint\u001b[39m(response.status_code)\n\u001b[32m     13\u001b[39m \u001b[38;5;28mprint\u001b[39m(response.text)\n\u001b[32m---> \u001b[39m\u001b[32m14\u001b[39m token = \u001b[43mresponse\u001b[49m\u001b[43m.\u001b[49m\u001b[43mjson\u001b[49m\u001b[43m(\u001b[49m\u001b[43m)\u001b[49m\u001b[43m[\u001b[49m\u001b[33;43m\"\u001b[39;49m\u001b[33;43mtoken\u001b[39;49m\u001b[33;43m\"\u001b[39;49m\u001b[43m]\u001b[49m\n",
      "\u001b[31mKeyError\u001b[39m: 'token'"
     ]
    }
   ],
   "source": [
    "url = URL_API + \"/api/auth/register\"\n",
    "data = {\n",
    "    \"password\": \"admin123\",\n",
    "    \"email\": \"admin123@hotmail.com\"\n",
    "}\n",
    "\n",
    "headers = {\n",
    "    'Content-Type': 'application/json',\n",
    "}\n",
    "\n",
    "response = requests.post(url, json=data, headers=headers)\n",
    "print(response.status_code)\n",
    "print(response.text)\n",
    "token = response.json()[\"token\"]"
   ]
  },
  {
   "cell_type": "code",
   "execution_count": 53,
   "id": "1a5a3738-e986-466a-bfcb-5f3477fb79bb",
   "metadata": {},
   "outputs": [
    {
     "name": "stdout",
     "output_type": "stream",
     "text": [
      "http://127.0.0.1:5000/api/product/2\n",
      "200\n",
      "{\n",
      "  \"category\": \"Accessoires\",\n",
      "  \"description\": \"Clavier m\\u00e9canique avec r\\u00e9tro\\u00e9clairage RGB\",\n",
      "  \"id\": 2,\n",
      "  \"name\": \"Clavier M\\u00e9canique Pro\",\n",
      "  \"price\": 150.0,\n",
      "  \"stock\": 200\n",
      "}\n",
      "\n"
     ]
    }
   ],
   "source": [
    "product_id = 2\n",
    "url = URL_API + f\"/api/product/{product_id}\"\n",
    "print(url)\n",
    "\n",
    "response = requests.get(url)\n",
    "print(response.status_code)\n",
    "print(response.text)"
   ]
  },
  {
   "cell_type": "code",
   "execution_count": 54,
   "id": "29278973-6c85-4d14-8b10-4289913917ec",
   "metadata": {},
   "outputs": [
    {
     "name": "stdout",
     "output_type": "stream",
     "text": [
      "http://127.0.0.1:5000/api/products\n",
      "200\n",
      "[{'id': 32, 'name': 'Adaptateur HDMI vers VGA'}, {'id': 26, 'name': 'Alimentation 750W'}, {'id': 23, 'name': 'Antivirus Pro 1 An'}, {'id': 9, 'name': 'Barre de Son Bluetooth'}, {'id': 25, 'name': 'Boîtier PC Gaming'}, {'id': 8, 'name': 'Carte Graphique GTX 3080'}, {'id': 24, 'name': 'Carte Mère ATX'}, {'id': 39, 'name': 'Carte Réseau PCIe'}, {'id': 31, 'name': 'Carte Son Externe'}, {'id': 21, 'name': 'Chargeur Universel'}, {'id': 46, 'name': 'Clavier Ergonomique'}, {'id': 2, 'name': 'Clavier Mécanique Pro'}, {'id': 34, 'name': 'Clavier Sans Fil'}, {'id': 20, 'name': 'Clé USB 128GB'}, {'id': 41, 'name': 'Clé de Sécurité USB'}, {'id': 5, 'name': 'Disque Dur Externe 2TB'}, {'id': 36, 'name': 'Disque Dur NAS 4TB'}, {'id': 14, 'name': 'Enceintes de Bureau'}, {'id': 44, 'name': 'Enregistreur Vidéo Numérique'}, {'id': 22, 'name': 'Hub USB 3.0'}, {'id': 29, 'name': 'Imprimante 3D'}, {'id': 43, 'name': 'Imprimante Laser Couleur'}, {'id': 6, 'name': 'Imprimante Multifonction AIO'}, {'id': 49, 'name': 'Imprimante Photo'}, {'id': 45, 'name': 'Micro-casque Gaming'}, {'id': 15, 'name': 'Microphone USB'}, {'id': 40, 'name': 'Moniteur Courbé 34'}, {'id': 17, 'name': 'Onduleur 1000VA'}, {'id': 1, 'name': 'Ordinateur Portable X200'}, {'id': 18, 'name': 'Projecteur LED 1080p'}, {'id': 50, 'name': 'Routeur 4G LTE'}, {'id': 35, 'name': 'Routeur Mesh'}, {'id': 7, 'name': 'Routeur Wi-Fi 6'}, {'id': 13, 'name': 'SSD Interne 1TB'}, {'id': 30, 'name': 'Scanner de Documents'}, {'id': 4, 'name': 'Souris Gaming Z500'}, {'id': 11, 'name': \"Station d'Accueil USB-C\"}, {'id': 38, 'name': 'Station de Charge Sans Fil'}, {'id': 33, 'name': 'Support Ordinateur Portable'}, {'id': 19, 'name': 'Support Écran Réglable'}, {'id': 16, 'name': 'Switch Ethernet 8 Ports'}, {'id': 48, 'name': 'Tablette Android 8'}, {'id': 12, 'name': 'Tablette Graphique Pro'}, {'id': 28, 'name': 'Tablette Tactile 10'}, {'id': 42, 'name': 'Tablette de Dessin'}, {'id': 27, 'name': 'Webcam 4K'}, {'id': 10, 'name': 'Webcam HD 1080p'}, {'id': 47, 'name': 'Webcam avec Anneau Lumineux'}, {'id': 37, 'name': 'Écouteurs Bluetooth'}, {'id': 3, 'name': 'Écran 4K Ultra HD'}]\n"
     ]
    }
   ],
   "source": [
    "url = URL_API + f\"/api/products\"\n",
    "print(url)\n",
    "\n",
    "response = requests.get(url)\n",
    "print(response.status_code)\n",
    "print(response.json())"
   ]
  },
  {
   "cell_type": "code",
   "execution_count": 55,
   "id": "1f7bd912-1b23-484d-81be-cc04b61f92ee",
   "metadata": {
    "scrolled": true
   },
   "outputs": [
    {
     "name": "stdout",
     "output_type": "stream",
     "text": [
      "201\n",
      "{\n",
      "  \"category\": \"Ordinateurs\",\n",
      "  \"description\": \"Super Macbook\",\n",
      "  \"id\": 51,\n",
      "  \"name\": \"Macbook 3\",\n",
      "  \"price\": 1500.0,\n",
      "  \"stock\": 200\n",
      "}\n",
      "\n"
     ]
    }
   ],
   "source": [
    "url = URL_API + f\"/api/product\"\n",
    "data = {\n",
    "    \"name\": \"Macbook 3\",\n",
    "    \"description\": \"Super Macbook\",\n",
    "    \"price\": 1500,\n",
    "    \"category\": \"Ordinateurs\",\n",
    "    \"stock\": 200\n",
    "    \n",
    "}\n",
    "\n",
    "headers = {\n",
    "    \"Authorization\": f\"Bearer {token}\",\n",
    "    \"Content-Type\": 'application/json',\n",
    "}\n",
    "response = requests.post(url, json=data, headers=headers)\n",
    "print(response.status_code)\n",
    "print(response.text)"
   ]
  },
  {
   "cell_type": "code",
   "execution_count": 36,
   "id": "a605a7ae-ccfc-4269-8525-ed3a27641d38",
   "metadata": {},
   "outputs": [
    {
     "name": "stdout",
     "output_type": "stream",
     "text": [
      "200\n",
      "{\n",
      "  \"category\": \"Ordinateurs\",\n",
      "  \"description\": \"Super Macbook\",\n",
      "  \"id\": 56,\n",
      "  \"name\": \"Macbook 3\",\n",
      "  \"price\": 4500.0,\n",
      "  \"stock\": 100\n",
      "}\n",
      "\n"
     ]
    }
   ],
   "source": [
    "product_id = 56\n",
    "url = URL_API + f\"/api/product/{product_id}\"\n",
    "data = {\n",
    "    \"stock\": 100,\n",
    "    \"price\": 4500\n",
    "    \n",
    "}\n",
    "\n",
    "headers = {\n",
    "    \"Authorization\": f\"Bearer {token}\",\n",
    "    \"Content-Type\": 'application/json',\n",
    "}\n",
    "\n",
    "response = requests.put(url, json=data, headers=headers)\n",
    "print(response.status_code)\n",
    "print(response.text)"
   ]
  },
  {
   "cell_type": "code",
   "execution_count": 23,
   "id": "335e6b42-f2d5-4fd6-9583-a1d5d2e1407c",
   "metadata": {},
   "outputs": [
    {
     "name": "stdout",
     "output_type": "stream",
     "text": [
      "http://127.0.0.1:5000/api/product/51\n",
      "404\n",
      "{\n",
      "  \"error\": \"Product not found.\"\n",
      "}\n",
      "\n"
     ]
    }
   ],
   "source": [
    "product_id = 51\n",
    "url = URL_API + f\"/api/product/{product_id}\"\n",
    "print(url)\n",
    "\n",
    "response = requests.delete(url)\n",
    "print(response.status_code)\n",
    "print(response.text)"
   ]
  },
  {
   "cell_type": "code",
   "execution_count": 26,
   "id": "08e569bb-4072-4f17-8660-e3b52b677dee",
   "metadata": {
    "scrolled": true
   },
   "outputs": [
    {
     "name": "stdout",
     "output_type": "stream",
     "text": [
      "http://127.0.0.1:5000/api/product\n",
      "201\n",
      "{\n",
      "  \"category\": \"Ordinateurs\",\n",
      "  \"description\": \"Super Macbook\",\n",
      "  \"id\": 55,\n",
      "  \"name\": \"Macbook 167\",\n",
      "  \"price\": 1500.0,\n",
      "  \"stock\": 200\n",
      "}\n",
      "\n"
     ]
    }
   ],
   "source": [
    "headers = {\n",
    "    \"Authorization\": f\"Bearer {token}\",\n",
    "    \"Content-Type\": 'application/json',\n",
    "}\n",
    "data = {\n",
    "    \"name\": \"Macbook 167\",\n",
    "    \"description\": \"Super Macbook\",\n",
    "    \"price\": 1500,\n",
    "    \"category\": \"Ordinateurs\",\n",
    "    \"stock\": 200\n",
    "    \n",
    "}\n",
    "url = URL_API + f\"/api/product\"\n",
    "print(url)\n",
    "\n",
    "response = requests.post(url, json=data, headers=headers)\n",
    "print(response.status_code)\n",
    "print(response.text)"
   ]
  },
  {
   "cell_type": "code",
   "execution_count": 58,
   "id": "0b035272-def5-4e57-a1b8-090ab957dad3",
   "metadata": {},
   "outputs": [
    {
     "name": "stdout",
     "output_type": "stream",
     "text": [
      "http://127.0.0.1:5000/api/command\n",
      "500\n",
      "{\n",
      "  \"error\": \"Product quantity is not sufficient 11 > 10 for Enregistreur Vid\\u00e9o Num\\u00e9rique.\"\n",
      "}\n",
      "\n"
     ]
    }
   ],
   "source": [
    "headers = {\n",
    "    \"Authorization\": f\"Bearer {token}\",\n",
    "    \"Content-Type\": 'application/json',\n",
    "}\n",
    "data = {\n",
    "    \"product_id\": [3, 3, 3, 4] + [44] * 11,\n",
    "    \"address_delivery\": \"Bordeaux\"\n",
    "    \n",
    "}\n",
    "url = URL_API + f\"/api/command\"\n",
    "print(url)\n",
    "\n",
    "response = requests.post(url, json=data, headers=headers)\n",
    "print(response.status_code)\n",
    "print(response.text)"
   ]
  },
  {
   "cell_type": "code",
   "execution_count": 73,
   "id": "79283786-9426-47f5-a12b-ef56ec075a7d",
   "metadata": {
    "scrolled": true
   },
   "outputs": [
    {
     "name": "stdout",
     "output_type": "stream",
     "text": [
      "http://127.0.0.1:5000/api/command/7/lign\n",
      "200\n",
      "{\n",
      "  \"address_delivery\": \"Bordeaux\",\n",
      "  \"date_command\": \"Mon, 28 Apr 2025 15:24:12 GMT\",\n",
      "  \"id\": 7,\n",
      "  \"products\": [\n",
      "    {\n",
      "      \"id\": 3,\n",
      "      \"name\": \"\\u00c9cran 4K Ultra HD\",\n",
      "      \"price\": 400,\n",
      "      \"quantity\": 3\n",
      "    },\n",
      "    {\n",
      "      \"id\": 4,\n",
      "      \"name\": \"Souris Gaming Z500\",\n",
      "      \"price\": 60,\n",
      "      \"quantity\": 1\n",
      "    },\n",
      "    {\n",
      "      \"id\": 5,\n",
      "      \"name\": \"Disque Dur Externe 2TB\",\n",
      "      \"price\": 100,\n",
      "      \"quantity\": 1\n",
      "    }\n",
      "  ],\n",
      "  \"status\": \"shipped\"\n",
      "}\n",
      "\n"
     ]
    }
   ],
   "source": [
    "headers = {\n",
    "    \"Authorization\": f\"Bearer {token}\",\n",
    "    \"Content-Type\": 'application/json',\n",
    "}\n",
    "\n",
    "url = URL_API + f\"/api/command/7/lign\"\n",
    "print(url)\n",
    "\n",
    "response = requests.get(url, headers=headers)\n",
    "print(response.status_code)\n",
    "print(response.text)"
   ]
  },
  {
   "cell_type": "code",
   "execution_count": null,
   "id": "085c4d68-8b34-4950-b476-62c3e4455516",
   "metadata": {},
   "outputs": [],
   "source": []
  },
  {
   "cell_type": "code",
   "execution_count": null,
   "id": "62601081-5499-4846-9b0f-0501914c3c26",
   "metadata": {},
   "outputs": [],
   "source": []
  },
  {
   "cell_type": "code",
   "execution_count": null,
   "id": "bc546365-b196-4bb1-9333-81b16aa5533f",
   "metadata": {},
   "outputs": [],
   "source": []
  },
  {
   "cell_type": "code",
   "execution_count": 62,
   "id": "6482a51c-9f94-4eb2-9c79-116cc79c69af",
   "metadata": {
    "collapsed": true,
    "jupyter": {
     "outputs_hidden": true
    }
   },
   "outputs": [
    {
     "name": "stdout",
     "output_type": "stream",
     "text": [
      "http://127.0.0.1:5000/api/commands\n",
      "200\n",
      "[\n",
      "  {\n",
      "    \"address_delivery\": \"12 rue G.Brassens, 44000 Nantes\",\n",
      "    \"date_command\": \"Mon, 28 Apr 2025 14:50:04 GMT\",\n",
      "    \"id\": 1,\n",
      "    \"status\": \"on hold\"\n",
      "  },\n",
      "  {\n",
      "    \"address_delivery\": \"Bordeaux\",\n",
      "    \"date_command\": \"Mon, 28 Apr 2025 15:02:02 GMT\",\n",
      "    \"id\": 2,\n",
      "    \"status\": \"on hold\"\n",
      "  },\n",
      "  {\n",
      "    \"address_delivery\": \"Bordeaux\",\n",
      "    \"date_command\": \"Mon, 28 Apr 2025 15:20:57 GMT\",\n",
      "    \"id\": 3,\n",
      "    \"status\": \"on hold\"\n",
      "  },\n",
      "  {\n",
      "    \"address_delivery\": \"Bordeaux\",\n",
      "    \"date_command\": \"Mon, 28 Apr 2025 15:21:08 GMT\",\n",
      "    \"id\": 4,\n",
      "    \"status\": \"on hold\"\n",
      "  },\n",
      "  {\n",
      "    \"address_delivery\": \"Bordeaux\",\n",
      "    \"date_command\": \"Mon, 28 Apr 2025 15:21:41 GMT\",\n",
      "    \"id\": 5,\n",
      "    \"status\": \"on hold\"\n",
      "  },\n",
      "  {\n",
      "    \"address_delivery\": \"Bordeaux\",\n",
      "    \"date_command\": \"Mon, 28 Apr 2025 15:21:55 GMT\",\n",
      "    \"id\": 6,\n",
      "    \"status\": \"on hold\"\n",
      "  },\n",
      "  {\n",
      "    \"address_delivery\": \"Bordeaux\",\n",
      "    \"date_command\": \"Mon, 28 Apr 2025 15:24:12 GMT\",\n",
      "    \"id\": 7,\n",
      "    \"status\": \"on hold\"\n",
      "  },\n",
      "  {\n",
      "    \"address_delivery\": \"Bordeaux\",\n",
      "    \"date_command\": \"Mon, 28 Apr 2025 15:25:09 GMT\",\n",
      "    \"id\": 8,\n",
      "    \"status\": \"on hold\"\n",
      "  },\n",
      "  {\n",
      "    \"address_delivery\": \"Bordeaux\",\n",
      "    \"date_command\": \"Mon, 28 Apr 2025 15:26:35 GMT\",\n",
      "    \"id\": 9,\n",
      "    \"status\": \"on hold\"\n",
      "  }\n",
      "]\n",
      "\n"
     ]
    }
   ],
   "source": [
    "headers = {\n",
    "    \"Authorization\": f\"Bearer {token}\",\n",
    "    \"Content-Type\": 'application/json',\n",
    "}\n",
    "\n",
    "url = URL_API + f\"/api/commands\"\n",
    "print(url)\n",
    "\n",
    "response = requests.get(url, headers=headers)\n",
    "print(response.status_code)\n",
    "print(response.text)"
   ]
  },
  {
   "cell_type": "code",
   "execution_count": 70,
   "id": "0a0ea08c-bc97-40b3-87cb-c12f1dd53487",
   "metadata": {},
   "outputs": [
    {
     "name": "stdout",
     "output_type": "stream",
     "text": [
      "http://127.0.0.1:5000/api/command/7\n",
      "200\n",
      "{\n",
      "  \"address_delivery\": \"Bordeaux\",\n",
      "  \"date_command\": \"Mon, 28 Apr 2025 15:24:12 GMT\",\n",
      "  \"id\": 7,\n",
      "  \"status\": \"shipped\"\n",
      "}\n",
      "\n"
     ]
    }
   ],
   "source": [
    "headers = {\n",
    "    \"Authorization\": f\"Bearer {token}\",\n",
    "    \"Content-Type\": 'application/json',\n",
    "}\n",
    "\n",
    "url = URL_API + f\"/api/command/7\"\n",
    "print(url)\n",
    "data = {\n",
    "    \"status\": \"shipped\",\n",
    "    \n",
    "}\n",
    "\n",
    "response = requests.patch(url, json=data, headers=headers)\n",
    "print(response.status_code)\n",
    "print(response.text)"
   ]
  },
  {
   "cell_type": "code",
   "execution_count": 74,
   "id": "002417d1-c89f-4f3e-ab78-ed8ae3d364fc",
   "metadata": {},
   "outputs": [
    {
     "name": "stdout",
     "output_type": "stream",
     "text": [
      "http://127.0.0.1:5000/api/command/7\n",
      "200\n",
      "{\n",
      "  \"address_delivery\": \"Bordeaux\",\n",
      "  \"date_command\": \"Mon, 28 Apr 2025 15:24:12 GMT\",\n",
      "  \"id\": 7,\n",
      "  \"status\": \"shipped\"\n",
      "}\n",
      "\n"
     ]
    }
   ],
   "source": [
    "headers = {\n",
    "    \"Authorization\": f\"Bearer {token}\",\n",
    "    \"Content-Type\": 'application/json',\n",
    "}\n",
    "\n",
    "url = URL_API + f\"/api/command/7\"\n",
    "print(url)\n",
    "\n",
    "response = requests.get(url, headers=headers)\n",
    "print(response.status_code)\n",
    "print(response.text)"
   ]
  },
  {
   "cell_type": "code",
   "execution_count": null,
   "id": "9fd2c564-7faf-4f94-89d0-ec60bc63d432",
   "metadata": {},
   "outputs": [],
   "source": []
  }
 ],
 "metadata": {
  "kernelspec": {
   "display_name": "Python 3 (ipykernel)",
   "language": "python",
   "name": "python3"
  },
  "language_info": {
   "codemirror_mode": {
    "name": "ipython",
    "version": 3
   },
   "file_extension": ".py",
   "mimetype": "text/x-python",
   "name": "python",
   "nbconvert_exporter": "python",
   "pygments_lexer": "ipython3",
   "version": "3.12.8"
  }
 },
 "nbformat": 4,
 "nbformat_minor": 5
}
